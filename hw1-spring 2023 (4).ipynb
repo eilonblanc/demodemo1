{
 "cells": [
  {
   "cell_type": "code",
   "execution_count": 1,
   "id": "2f081b79-7480-4760-a4df-c7d8525604a7",
   "metadata": {},
   "outputs": [],
   "source": [
    "import numpy as np\n",
    "import pandas as pd"
   ]
  },
  {
   "cell_type": "markdown",
   "id": "79d598a3-a908-45ae-bcc8-ce8fb7eb0ade",
   "metadata": {
    "tags": []
   },
   "source": [
    "# Identify:\n",
    "\n",
    "Please fill-in your ID in the following cell, **only id numbers, no names!**\n"
   ]
  },
  {
   "cell_type": "code",
   "execution_count": 2,
   "id": "3fe7d342-1f0e-418c-9d89-864073886603",
   "metadata": {},
   "outputs": [],
   "source": [
    "id1 = \"323050948\"\n",
    "id2 = \"208006981\""
   ]
  },
  {
   "cell_type": "code",
   "execution_count": null,
   "id": "b360d199-879b-4bae-bbdc-c3a14f85d392",
   "metadata": {},
   "outputs": [],
   "source": []
  },
  {
   "cell_type": "markdown",
   "id": "633e3244-493a-4613-babf-5dfb786f0706",
   "metadata": {},
   "source": [
    "Uncomment in case two students are doing the assignment together:"
   ]
  },
  {
   "cell_type": "code",
   "execution_count": 3,
   "id": "3e3090cd-b9b3-4435-afc5-721c5587f8ef",
   "metadata": {},
   "outputs": [],
   "source": [
    "df = pd.DataFrame([id1,id2])"
   ]
  },
  {
   "cell_type": "code",
   "execution_count": 4,
   "id": "c2374c78-64c3-4d7c-9e78-7ab0c9003b45",
   "metadata": {},
   "outputs": [],
   "source": [
    "df.to_clipboard(index=False,header=False)"
   ]
  },
  {
   "cell_type": "markdown",
   "id": "069d6ea5-8ac2-4cbb-813d-fd3bde53e352",
   "metadata": {},
   "source": [
    "Please fill your names here:"
   ]
  },
  {
   "cell_type": "markdown",
   "id": "f4e9df0d-1908-4a82-8a6e-012fa034add3",
   "metadata": {},
   "source": [
    "Yael wechsler,Dana lehr"
   ]
  },
  {
   "cell_type": "markdown",
   "id": "d2b60456-295d-4052-8fca-a7804cdc4b36",
   "metadata": {
    "tags": []
   },
   "source": [
    "# Q1"
   ]
  },
  {
   "cell_type": "code",
   "execution_count": 5,
   "id": "8c726250-0e3c-4212-ace0-c729b42e78be",
   "metadata": {},
   "outputs": [],
   "source": [
    "url = \"C:/Users/eli/Downloads/bird strikes.csv\"\n",
    "brd1_df = pd.read_csv(url)"
   ]
  },
  {
   "cell_type": "code",
   "execution_count": 6,
   "id": "f9976289-93d4-47fe-9622-d278d9325211",
   "metadata": {},
   "outputs": [
    {
     "data": {
      "text/html": [
       "<div>\n",
       "<style scoped>\n",
       "    .dataframe tbody tr th:only-of-type {\n",
       "        vertical-align: middle;\n",
       "    }\n",
       "\n",
       "    .dataframe tbody tr th {\n",
       "        vertical-align: top;\n",
       "    }\n",
       "\n",
       "    .dataframe thead th {\n",
       "        text-align: right;\n",
       "    }\n",
       "</style>\n",
       "<table border=\"1\" class=\"dataframe\">\n",
       "  <thead>\n",
       "    <tr style=\"text-align: right;\">\n",
       "      <th></th>\n",
       "      <th>month</th>\n",
       "      <th>visibility</th>\n",
       "    </tr>\n",
       "  </thead>\n",
       "  <tbody>\n",
       "    <tr>\n",
       "      <th>10</th>\n",
       "      <td>4</td>\n",
       "      <td>NIGHT</td>\n",
       "    </tr>\n",
       "    <tr>\n",
       "      <th>11</th>\n",
       "      <td>4</td>\n",
       "      <td>DAY</td>\n",
       "    </tr>\n",
       "    <tr>\n",
       "      <th>12</th>\n",
       "      <td>4</td>\n",
       "      <td>NIGHT</td>\n",
       "    </tr>\n",
       "    <tr>\n",
       "      <th>13</th>\n",
       "      <td>5</td>\n",
       "      <td>DAY</td>\n",
       "    </tr>\n",
       "    <tr>\n",
       "      <th>14</th>\n",
       "      <td>5</td>\n",
       "      <td>DAY</td>\n",
       "    </tr>\n",
       "  </tbody>\n",
       "</table>\n",
       "</div>"
      ],
      "text/plain": [
       "    month visibility\n",
       "10      4      NIGHT\n",
       "11      4        DAY\n",
       "12      4      NIGHT\n",
       "13      5        DAY\n",
       "14      5        DAY"
      ]
     },
     "execution_count": 6,
     "metadata": {},
     "output_type": "execute_result"
    }
   ],
   "source": [
    "brd1_df.iloc[10:15 ,[1,3]]"
   ]
  },
  {
   "cell_type": "markdown",
   "id": "147f877e-d026-440e-916d-b883f568d134",
   "metadata": {},
   "source": [
    "# Q2"
   ]
  },
  {
   "cell_type": "code",
   "execution_count": 7,
   "id": "f13a5e05-928f-4db2-af0b-4ce781ef0ffe",
   "metadata": {},
   "outputs": [
    {
     "name": "stderr",
     "output_type": "stream",
     "text": [
      "C:\\Users\\eli\\AppData\\Local\\Temp\\ipykernel_23944\\4134397344.py:2: DtypeWarning: Columns (6,12,14) have mixed types. Specify dtype option on import or set low_memory=False.\n",
      "  air_df = pd.read_csv(air1)\n"
     ]
    }
   ],
   "source": [
    "air1 = \"https://raw.githubusercontent.com/nlihin/data-analytics/main/datasets/aircraft%20wildlife%20strikes.csv\"\n",
    "air_df = pd.read_csv(air1)"
   ]
  },
  {
   "cell_type": "markdown",
   "id": "368e403f-243e-4fac-b24d-b2c342ae6260",
   "metadata": {},
   "source": []
  },
  {
   "cell_type": "code",
   "execution_count": 8,
   "id": "4a840295-39d1-4e20-9236-14c84f3163c9",
   "metadata": {},
   "outputs": [
    {
     "data": {
      "text/html": [
       "<div>\n",
       "<style scoped>\n",
       "    .dataframe tbody tr th:only-of-type {\n",
       "        vertical-align: middle;\n",
       "    }\n",
       "\n",
       "    .dataframe tbody tr th {\n",
       "        vertical-align: top;\n",
       "    }\n",
       "\n",
       "    .dataframe thead th {\n",
       "        text-align: right;\n",
       "    }\n",
       "</style>\n",
       "<table border=\"1\" class=\"dataframe\">\n",
       "  <thead>\n",
       "    <tr style=\"text-align: right;\">\n",
       "      <th></th>\n",
       "      <th>Species Name</th>\n",
       "      <th>Flight Phase</th>\n",
       "      <th>Aircraft</th>\n",
       "    </tr>\n",
       "  </thead>\n",
       "  <tbody>\n",
       "    <tr>\n",
       "      <th>10</th>\n",
       "      <td>UNKNOWN SMALL BIRD</td>\n",
       "      <td>CLIMB</td>\n",
       "      <td>MD-88</td>\n",
       "    </tr>\n",
       "    <tr>\n",
       "      <th>11</th>\n",
       "      <td>UNKNOWN MEDIUM BIRD</td>\n",
       "      <td>TAKEOFF RUN</td>\n",
       "      <td>MD-80</td>\n",
       "    </tr>\n",
       "    <tr>\n",
       "      <th>25</th>\n",
       "      <td>HOUSE SPARROW</td>\n",
       "      <td>TAKEOFF RUN</td>\n",
       "      <td>C-21A</td>\n",
       "    </tr>\n",
       "  </tbody>\n",
       "</table>\n",
       "</div>"
      ],
      "text/plain": [
       "           Species Name Flight Phase Aircraft\n",
       "10   UNKNOWN SMALL BIRD        CLIMB    MD-88\n",
       "11  UNKNOWN MEDIUM BIRD  TAKEOFF RUN    MD-80\n",
       "25        HOUSE SPARROW  TAKEOFF RUN    C-21A"
      ]
     },
     "execution_count": 8,
     "metadata": {},
     "output_type": "execute_result"
    }
   ],
   "source": [
    "air_df.loc[[10,11,25],['Species Name', 'Flight Phase', 'Aircraft']]"
   ]
  },
  {
   "cell_type": "code",
   "execution_count": null,
   "id": "187fe4ec-25ba-4b10-b3af-e483213c38b1",
   "metadata": {},
   "outputs": [],
   "source": []
  },
  {
   "cell_type": "markdown",
   "id": "57fc7401-53b7-4622-a02b-105fef7ee10f",
   "metadata": {},
   "source": [
    "# Q3"
   ]
  },
  {
   "cell_type": "code",
   "execution_count": 9,
   "id": "dbf6005c-c436-49ff-bd38-158695ea4b86",
   "metadata": {},
   "outputs": [
    {
     "data": {
      "text/plain": [
       "559"
      ]
     },
     "execution_count": 9,
     "metadata": {},
     "output_type": "execute_result"
    }
   ],
   "source": [
    "len(air_df['Aircraft'].unique())"
   ]
  },
  {
   "cell_type": "code",
   "execution_count": null,
   "id": "d1449e31-8207-4bb4-b945-2d25249e0ca2",
   "metadata": {},
   "outputs": [],
   "source": []
  },
  {
   "cell_type": "markdown",
   "id": "30d2dfab-b16d-44ac-bfa0-bbf477d52447",
   "metadata": {},
   "source": [
    "# Q4"
   ]
  },
  {
   "cell_type": "code",
   "execution_count": 10,
   "id": "853657ba-14fc-47cb-bbcd-b8fa70710583",
   "metadata": {},
   "outputs": [],
   "source": [
    "A_320= air_df[air_df.loc[:,\"Aircraft\"] == \"A-320\"]"
   ]
  },
  {
   "cell_type": "code",
   "execution_count": 11,
   "id": "5e2a15d7-07c9-415f-8b41-7e5d35b7deef",
   "metadata": {},
   "outputs": [],
   "source": [
    "avg=A_320[[\"Height\"]].describe()"
   ]
  },
  {
   "cell_type": "code",
   "execution_count": 12,
   "id": "896d7c52-d904-40fc-a6a7-e84d381445f1",
   "metadata": {},
   "outputs": [
    {
     "data": {
      "text/html": [
       "<div>\n",
       "<style scoped>\n",
       "    .dataframe tbody tr th:only-of-type {\n",
       "        vertical-align: middle;\n",
       "    }\n",
       "\n",
       "    .dataframe tbody tr th {\n",
       "        vertical-align: top;\n",
       "    }\n",
       "\n",
       "    .dataframe thead th {\n",
       "        text-align: right;\n",
       "    }\n",
       "</style>\n",
       "<table border=\"1\" class=\"dataframe\">\n",
       "  <thead>\n",
       "    <tr style=\"text-align: right;\">\n",
       "      <th></th>\n",
       "      <th>Height</th>\n",
       "    </tr>\n",
       "  </thead>\n",
       "  <tbody>\n",
       "    <tr>\n",
       "      <th>mean</th>\n",
       "      <td>874.8202</td>\n",
       "    </tr>\n",
       "    <tr>\n",
       "      <th>50%</th>\n",
       "      <td>50.0000</td>\n",
       "    </tr>\n",
       "  </tbody>\n",
       "</table>\n",
       "</div>"
      ],
      "text/plain": [
       "        Height\n",
       "mean  874.8202\n",
       "50%    50.0000"
      ]
     },
     "execution_count": 12,
     "metadata": {},
     "output_type": "execute_result"
    }
   ],
   "source": [
    "avg.iloc[[1,5]]"
   ]
  },
  {
   "cell_type": "markdown",
   "id": "bc58b03e-4254-4723-9b74-c08906c8a1cf",
   "metadata": {},
   "source": [
    "we can see that most of the planes flew at a low high, about 50000 meters and some planes flew at a very high altitude, so the average is much above the median"
   ]
  },
  {
   "cell_type": "markdown",
   "id": "2fabc36a-61e9-4433-97a2-17d968657d75",
   "metadata": {},
   "source": [
    "# Q5"
   ]
  },
  {
   "cell_type": "code",
   "execution_count": 13,
   "id": "710ebd77-3952-436e-a0cd-9245a7abf542",
   "metadata": {},
   "outputs": [
    {
     "data": {
      "text/plain": [
       "Incident Year\n",
       "2014    13976\n",
       "2013    11666\n",
       "2012    11264\n",
       "2011    10363\n",
       "2015    10148\n",
       "dtype: int64"
      ]
     },
     "execution_count": 13,
     "metadata": {},
     "output_type": "execute_result"
    }
   ],
   "source": [
    "evevnts = air_df.value_counts(\"Incident Year\")\n",
    "evevnts.iloc[0:5]"
   ]
  },
  {
   "cell_type": "code",
   "execution_count": null,
   "id": "cd7c9556-fa5f-42fa-a378-14dc358ff335",
   "metadata": {},
   "outputs": [],
   "source": []
  },
  {
   "cell_type": "code",
   "execution_count": null,
   "id": "0ff087cd-4730-44a4-b321-bedfaa0d093c",
   "metadata": {},
   "outputs": [],
   "source": []
  },
  {
   "cell_type": "markdown",
   "id": "8ed41b51-5184-40de-be2d-53ec85b46479",
   "metadata": {},
   "source": [
    "# Q6"
   ]
  },
  {
   "cell_type": "code",
   "execution_count": 14,
   "id": "9d76f963-1ece-4378-b83e-cdf1e94408f8",
   "metadata": {},
   "outputs": [],
   "source": [
    "events1 = A_320.value_counts(\"Incident Year\")"
   ]
  },
  {
   "cell_type": "code",
   "execution_count": 15,
   "id": "5b643ac4-ca1e-4aef-8649-1fe141a71b3f",
   "metadata": {},
   "outputs": [
    {
     "data": {
      "text/plain": [
       "622"
      ]
     },
     "execution_count": 15,
     "metadata": {},
     "output_type": "execute_result"
    }
   ],
   "source": [
    "events1.iloc[0]-1"
   ]
  },
  {
   "cell_type": "code",
   "execution_count": null,
   "id": "49180eec-6619-4ec4-bead-f576261d42e7",
   "metadata": {},
   "outputs": [],
   "source": []
  },
  {
   "cell_type": "markdown",
   "id": "bbf421a4-4e7e-4ca4-9b62-d9aa124fbdaf",
   "metadata": {},
   "source": [
    "# Q7"
   ]
  },
  {
   "cell_type": "code",
   "execution_count": 16,
   "id": "197f3f28-99bc-4093-a1e4-c17de5ec5451",
   "metadata": {},
   "outputs": [
    {
     "data": {
      "text/html": [
       "<div>\n",
       "<style scoped>\n",
       "    .dataframe tbody tr th:only-of-type {\n",
       "        vertical-align: middle;\n",
       "    }\n",
       "\n",
       "    .dataframe tbody tr th {\n",
       "        vertical-align: top;\n",
       "    }\n",
       "\n",
       "    .dataframe thead th {\n",
       "        text-align: right;\n",
       "    }\n",
       "</style>\n",
       "<table border=\"1\" class=\"dataframe\">\n",
       "  <thead>\n",
       "    <tr style=\"text-align: right;\">\n",
       "      <th></th>\n",
       "      <th>Distance</th>\n",
       "    </tr>\n",
       "  </thead>\n",
       "  <tbody>\n",
       "    <tr>\n",
       "      <th>5380</th>\n",
       "      <td>23.0</td>\n",
       "    </tr>\n",
       "    <tr>\n",
       "      <th>40162</th>\n",
       "      <td>23.0</td>\n",
       "    </tr>\n",
       "    <tr>\n",
       "      <th>42605</th>\n",
       "      <td>23.0</td>\n",
       "    </tr>\n",
       "    <tr>\n",
       "      <th>50944</th>\n",
       "      <td>23.0</td>\n",
       "    </tr>\n",
       "    <tr>\n",
       "      <th>58868</th>\n",
       "      <td>23.0</td>\n",
       "    </tr>\n",
       "    <tr>\n",
       "      <th>66237</th>\n",
       "      <td>23.0</td>\n",
       "    </tr>\n",
       "    <tr>\n",
       "      <th>69111</th>\n",
       "      <td>23.0</td>\n",
       "    </tr>\n",
       "    <tr>\n",
       "      <th>75858</th>\n",
       "      <td>23.0</td>\n",
       "    </tr>\n",
       "    <tr>\n",
       "      <th>107190</th>\n",
       "      <td>23.0</td>\n",
       "    </tr>\n",
       "    <tr>\n",
       "      <th>128155</th>\n",
       "      <td>23.0</td>\n",
       "    </tr>\n",
       "  </tbody>\n",
       "</table>\n",
       "</div>"
      ],
      "text/plain": [
       "        Distance\n",
       "5380        23.0\n",
       "40162       23.0\n",
       "42605       23.0\n",
       "50944       23.0\n",
       "58868       23.0\n",
       "66237       23.0\n",
       "69111       23.0\n",
       "75858       23.0\n",
       "107190      23.0\n",
       "128155      23.0"
      ]
     },
     "execution_count": 16,
     "metadata": {},
     "output_type": "execute_result"
    }
   ],
   "source": [
    "Distance= air_df[air_df[\"Distance\"]==23]\n",
    "Distance[[\"Distance\"]]"
   ]
  },
  {
   "cell_type": "code",
   "execution_count": 17,
   "id": "eec36d7c-018a-4b9a-a919-138d27ae23ad",
   "metadata": {},
   "outputs": [
    {
     "data": {
      "text/plain": [
       "3"
      ]
     },
     "execution_count": 17,
     "metadata": {},
     "output_type": "execute_result"
    }
   ],
   "source": [
    "Distance['Speed'].isnull().sum()"
   ]
  },
  {
   "cell_type": "code",
   "execution_count": 18,
   "id": "ecfd1abc-04c6-449f-b0ea-16836935b023",
   "metadata": {},
   "outputs": [
    {
     "data": {
      "text/plain": [
       "224.28571428571428"
      ]
     },
     "execution_count": 18,
     "metadata": {},
     "output_type": "execute_result"
    }
   ],
   "source": [
    "avg1=Distance.dropna(subset=['Speed'])\n",
    "avg1['Speed'].mean()"
   ]
  },
  {
   "cell_type": "code",
   "execution_count": 19,
   "id": "eb9ae354-05f7-4240-b4a3-ba32c805eec2",
   "metadata": {},
   "outputs": [
    {
     "data": {
      "text/plain": [
       "221.26658491891817"
      ]
     },
     "execution_count": 19,
     "metadata": {},
     "output_type": "execute_result"
    }
   ],
   "source": [
    "from scipy import stats\n",
    "stats.hmean(avg1.loc[:,'Speed'])"
   ]
  },
  {
   "cell_type": "code",
   "execution_count": null,
   "id": "77e8bc38-208e-4594-8afd-d93d05b696c1",
   "metadata": {},
   "outputs": [],
   "source": []
  }
 ],
 "metadata": {
  "kernelspec": {
   "display_name": "Python 3 (ipykernel)",
   "language": "python",
   "name": "python3"
  },
  "language_info": {
   "codemirror_mode": {
    "name": "ipython",
    "version": 3
   },
   "file_extension": ".py",
   "mimetype": "text/x-python",
   "name": "python",
   "nbconvert_exporter": "python",
   "pygments_lexer": "ipython3",
   "version": "3.9.7"
  }
 },
 "nbformat": 4,
 "nbformat_minor": 5
}
